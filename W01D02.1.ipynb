{
 "cells": [
  {
   "cell_type": "code",
   "execution_count": 1,
   "id": "4f68116a",
   "metadata": {},
   "outputs": [
    {
     "data": {
      "text/plain": [
       "'P'"
      ]
     },
     "execution_count": 1,
     "metadata": {},
     "output_type": "execute_result"
    }
   ],
   "source": [
    "student_1_name= \"Prasanthi\"\n",
    "student_1_name[0]"
   ]
  },
  {
   "cell_type": "code",
   "execution_count": 2,
   "id": "ec953878",
   "metadata": {},
   "outputs": [
    {
     "data": {
      "text/plain": [
       "'t'"
      ]
     },
     "execution_count": 2,
     "metadata": {},
     "output_type": "execute_result"
    }
   ],
   "source": [
    "student_1_name= \"Prasanthi\"\n",
    "student_1_name[6]"
   ]
  },
  {
   "cell_type": "code",
   "execution_count": 3,
   "id": "6eceb7f7",
   "metadata": {},
   "outputs": [
    {
     "data": {
      "text/plain": [
       "'P'"
      ]
     },
     "execution_count": 3,
     "metadata": {},
     "output_type": "execute_result"
    }
   ],
   "source": [
    "student_2_name= 'Prasanthi'\n",
    "student_2_name[0]"
   ]
  },
  {
   "cell_type": "code",
   "execution_count": 4,
   "id": "d9016310",
   "metadata": {},
   "outputs": [
    {
     "data": {
      "text/plain": [
       "'i'"
      ]
     },
     "execution_count": 4,
     "metadata": {},
     "output_type": "execute_result"
    }
   ],
   "source": [
    "student_3_name= \"Phani\"\n",
    "student_3_name[4]"
   ]
  },
  {
   "cell_type": "markdown",
   "id": "566c7343",
   "metadata": {},
   "source": [
    "### List data types"
   ]
  },
  {
   "cell_type": "markdown",
   "id": "4560e752",
   "metadata": {},
   "source": [
    "### Q) How to store the no.of students marks?"
   ]
  },
  {
   "cell_type": "code",
   "execution_count": 5,
   "id": "116fd50e",
   "metadata": {},
   "outputs": [],
   "source": [
    "student_1= 99\n",
    "student_2= 93\n",
    "student_3= 85\n",
    "student_4= 75\n",
    "student_5= 90\n",
    "student_6= 35"
   ]
  },
  {
   "cell_type": "code",
   "execution_count": 6,
   "id": "0939f17b",
   "metadata": {},
   "outputs": [
    {
     "name": "stdout",
     "output_type": "stream",
     "text": [
      "marks of student 6= 35\n"
     ]
    }
   ],
   "source": [
    "student_marks = [99,93,85,75,90,35]\n",
    "print(\"marks of student 6=\",student_marks[5])"
   ]
  },
  {
   "cell_type": "code",
   "execution_count": 7,
   "id": "e14254a4",
   "metadata": {},
   "outputs": [
    {
     "name": "stdout",
     "output_type": "stream",
     "text": [
      "marks of student 5= 90\n"
     ]
    }
   ],
   "source": [
    "print(\"marks of student 5=\",student_marks[4])"
   ]
  },
  {
   "cell_type": "code",
   "execution_count": 8,
   "id": "03699b6d",
   "metadata": {},
   "outputs": [
    {
     "name": "stdout",
     "output_type": "stream",
     "text": [
      "marks of student 3= 85\n"
     ]
    }
   ],
   "source": [
    "print(\"marks of student 3=\",student_marks[2])"
   ]
  },
  {
   "cell_type": "code",
   "execution_count": 10,
   "id": "e822d4cc",
   "metadata": {},
   "outputs": [
    {
     "name": "stdout",
     "output_type": "stream",
     "text": [
      "namesmarks 4=  35\n"
     ]
    }
   ],
   "source": [
    "student_namesmarks = [\"Prashu\",\"Sri\",\"Phani\",35,69,70.5]\n",
    "print(\"namesmarks 4= \",student_namesmarks[3])"
   ]
  },
  {
   "cell_type": "markdown",
   "id": "16766669",
   "metadata": {},
   "source": [
    "### update the list"
   ]
  },
  {
   "cell_type": "code",
   "execution_count": 22,
   "id": "35b66f3a",
   "metadata": {},
   "outputs": [],
   "source": [
    "student_namesmarks[1]= \"Nagalakshmi\""
   ]
  },
  {
   "cell_type": "code",
   "execution_count": 12,
   "id": "e76fa5b2",
   "metadata": {},
   "outputs": [
    {
     "data": {
      "text/plain": [
       "['Prashu', 'Nagalakshmi', 'Phani', 35, 69, 70.5]"
      ]
     },
     "execution_count": 12,
     "metadata": {},
     "output_type": "execute_result"
    }
   ],
   "source": [
    "student_namesmarks"
   ]
  },
  {
   "cell_type": "code",
   "execution_count": 13,
   "id": "6cc2adb9",
   "metadata": {},
   "outputs": [
    {
     "data": {
      "text/plain": [
       "2031879049472"
      ]
     },
     "execution_count": 13,
     "metadata": {},
     "output_type": "execute_result"
    }
   ],
   "source": [
    "# memory address of student_namesmarks\n",
    "id(student_namesmarks)"
   ]
  },
  {
   "cell_type": "code",
   "execution_count": 23,
   "id": "e887eab1",
   "metadata": {},
   "outputs": [
    {
     "data": {
      "text/plain": [
       "2031888012208"
      ]
     },
     "execution_count": 23,
     "metadata": {},
     "output_type": "execute_result"
    }
   ],
   "source": [
    "# memory address of Sri\n",
    "student_namesmarks[1]= \"Sri\"\n",
    "id(student_namesmarks[1])"
   ]
  },
  {
   "cell_type": "code",
   "execution_count": 19,
   "id": "ede84e67",
   "metadata": {},
   "outputs": [
    {
     "data": {
      "text/plain": [
       "2031878499888"
      ]
     },
     "execution_count": 19,
     "metadata": {},
     "output_type": "execute_result"
    }
   ],
   "source": [
    "# memory address of Nagalakshmi\n",
    "student_namesmarks[1]= \"Nagalakshmi\"\n",
    "id(student_namesmarks[1])"
   ]
  },
  {
   "cell_type": "markdown",
   "id": "b30e8208",
   "metadata": {},
   "source": [
    "### Tuple data type"
   ]
  },
  {
   "cell_type": "code",
   "execution_count": 25,
   "id": "5bd71cce",
   "metadata": {},
   "outputs": [
    {
     "name": "stdout",
     "output_type": "stream",
     "text": [
      "<class 'tuple'>\n"
     ]
    }
   ],
   "source": [
    "random_tuple= (\"Nagalakshmi\",\"Phani\",\"Padma\",46,35,85.5)\n",
    "print(type(random_tuple))"
   ]
  },
  {
   "cell_type": "code",
   "execution_count": 26,
   "id": "64dc0b3d",
   "metadata": {},
   "outputs": [
    {
     "ename": "TypeError",
     "evalue": "'tuple' object does not support item assignment",
     "output_type": "error",
     "traceback": [
      "\u001b[1;31m-------------------------------------------------------\u001b[0m",
      "\u001b[1;31mTypeError\u001b[0m             Traceback (most recent call last)",
      "Input \u001b[1;32mIn [26]\u001b[0m, in \u001b[0;36m<cell line: 1>\u001b[1;34m()\u001b[0m\n\u001b[1;32m----> 1\u001b[0m \u001b[43mrandom_tuple\u001b[49m\u001b[43m[\u001b[49m\u001b[38;5;241;43m0\u001b[39;49m\u001b[43m]\u001b[49m\u001b[38;5;241m=\u001b[39m \u001b[38;5;124m\"\u001b[39m\u001b[38;5;124mSri\u001b[39m\u001b[38;5;124m\"\u001b[39m\n",
      "\u001b[1;31mTypeError\u001b[0m: 'tuple' object does not support item assignment"
     ]
    }
   ],
   "source": [
    "random_tuple[0]= \"Sri\""
   ]
  },
  {
   "cell_type": "markdown",
   "id": "b7668245",
   "metadata": {},
   "source": [
    "### Set data type"
   ]
  },
  {
   "cell_type": "code",
   "execution_count": 84,
   "id": "2b4fdeed",
   "metadata": {},
   "outputs": [
    {
     "name": "stdout",
     "output_type": "stream",
     "text": [
      "4\n"
     ]
    }
   ],
   "source": [
    "set_1= {\"Tamil\",\"Kannada\",\"Malayalam\",\"tamil\"}\n",
    "print(len(set_1))"
   ]
  },
  {
   "cell_type": "code",
   "execution_count": 83,
   "id": "d56b1cc0",
   "metadata": {},
   "outputs": [
    {
     "name": "stdout",
     "output_type": "stream",
     "text": [
      "3\n"
     ]
    }
   ],
   "source": [
    "set_2= {\"Tamil\",\"Kannada\",\"Malayalam\",\"Tamil\"}\n",
    "print(len(set_2))"
   ]
  },
  {
   "cell_type": "code",
   "execution_count": 85,
   "id": "acf092ac",
   "metadata": {},
   "outputs": [
    {
     "ename": "TypeError",
     "evalue": "'set' object is not subscriptable",
     "output_type": "error",
     "traceback": [
      "\u001b[1;31m-------------------------------------------------------\u001b[0m",
      "\u001b[1;31mTypeError\u001b[0m             Traceback (most recent call last)",
      "Input \u001b[1;32mIn [85]\u001b[0m, in \u001b[0;36m<cell line: 1>\u001b[1;34m()\u001b[0m\n\u001b[1;32m----> 1\u001b[0m \u001b[43mset_2\u001b[49m\u001b[43m[\u001b[49m\u001b[38;5;241;43m0\u001b[39;49m\u001b[43m]\u001b[49m\n",
      "\u001b[1;31mTypeError\u001b[0m: 'set' object is not subscriptable"
     ]
    }
   ],
   "source": [
    "set_2[0]"
   ]
  },
  {
   "cell_type": "markdown",
   "id": "e2e6f586",
   "metadata": {},
   "source": [
    "### remove and update instrations"
   ]
  },
  {
   "cell_type": "code",
   "execution_count": 86,
   "id": "36735a7d",
   "metadata": {},
   "outputs": [],
   "source": [
    "set_1.remove(\"Kannada\")"
   ]
  },
  {
   "cell_type": "code",
   "execution_count": 87,
   "id": "caff6a9f",
   "metadata": {},
   "outputs": [
    {
     "data": {
      "text/plain": [
       "{'Malayalam', 'Tamil', 'tamil'}"
      ]
     },
     "execution_count": 87,
     "metadata": {},
     "output_type": "execute_result"
    }
   ],
   "source": [
    "set_1"
   ]
  },
  {
   "cell_type": "code",
   "execution_count": 88,
   "id": "45425deb",
   "metadata": {},
   "outputs": [],
   "source": [
    "set_1.update({\"Telugu\"})"
   ]
  },
  {
   "cell_type": "code",
   "execution_count": 89,
   "id": "229b34a1",
   "metadata": {},
   "outputs": [
    {
     "data": {
      "text/plain": [
       "{'Malayalam', 'Tamil', 'Telugu', 'tamil'}"
      ]
     },
     "execution_count": 89,
     "metadata": {},
     "output_type": "execute_result"
    }
   ],
   "source": [
    "set_1"
   ]
  },
  {
   "cell_type": "code",
   "execution_count": 99,
   "id": "b7d8a8c7",
   "metadata": {},
   "outputs": [],
   "source": [
    "set_3= {\"python\",\"java\"}"
   ]
  },
  {
   "cell_type": "code",
   "execution_count": 100,
   "id": "e3563c02",
   "metadata": {},
   "outputs": [
    {
     "data": {
      "text/plain": [
       "{'java', 'python'}"
      ]
     },
     "execution_count": 100,
     "metadata": {},
     "output_type": "execute_result"
    }
   ],
   "source": [
    "set_3"
   ]
  },
  {
   "cell_type": "code",
   "execution_count": 94,
   "id": "8c1cfe14",
   "metadata": {},
   "outputs": [
    {
     "ename": "TypeError",
     "evalue": "unhashable type: 'list'",
     "output_type": "error",
     "traceback": [
      "\u001b[1;31m-------------------------------------------------------\u001b[0m",
      "\u001b[1;31mTypeError\u001b[0m             Traceback (most recent call last)",
      "Input \u001b[1;32mIn [94]\u001b[0m, in \u001b[0;36m<cell line: 1>\u001b[1;34m()\u001b[0m\n\u001b[1;32m----> 1\u001b[0m set_3\u001b[38;5;241m=\u001b[39m {\u001b[38;5;124m\"\u001b[39m\u001b[38;5;124mpython\u001b[39m\u001b[38;5;124m\"\u001b[39m,\u001b[38;5;124m\"\u001b[39m\u001b[38;5;124mjava\u001b[39m\u001b[38;5;124m\"\u001b[39m,[\u001b[38;5;241m2\u001b[39m,\u001b[38;5;241m9.5\u001b[39m],a\u001b[38;5;241m+\u001b[39mb}\n",
      "\u001b[1;31mTypeError\u001b[0m: unhashable type: 'list'"
     ]
    }
   ],
   "source": [
    "set_3= {\"python\",\"java\",[2,9.5],a+b}"
   ]
  },
  {
   "cell_type": "code",
   "execution_count": 101,
   "id": "69b780ea",
   "metadata": {},
   "outputs": [
    {
     "ename": "TypeError",
     "evalue": "unhashable type: 'set'",
     "output_type": "error",
     "traceback": [
      "\u001b[1;31m-------------------------------------------------------\u001b[0m",
      "\u001b[1;31mTypeError\u001b[0m             Traceback (most recent call last)",
      "Input \u001b[1;32mIn [101]\u001b[0m, in \u001b[0;36m<cell line: 1>\u001b[1;34m()\u001b[0m\n\u001b[1;32m----> 1\u001b[0m set_3\u001b[38;5;241m=\u001b[39m{\u001b[38;5;124m\"\u001b[39m\u001b[38;5;124mabcd\u001b[39m\u001b[38;5;124m\"\u001b[39m,\u001b[38;5;124m\"\u001b[39m\u001b[38;5;124mefgh\u001b[39m\u001b[38;5;124m\"\u001b[39m,set_2}\n",
      "\u001b[1;31mTypeError\u001b[0m: unhashable type: 'set'"
     ]
    }
   ],
   "source": [
    "set_3={\"abcd\",\"efgh\",set_2}"
   ]
  },
  {
   "cell_type": "markdown",
   "id": "4e940bb3",
   "metadata": {},
   "source": [
    "### Dictionary data types"
   ]
  },
  {
   "cell_type": "code",
   "execution_count": 71,
   "id": "fd932ad7",
   "metadata": {},
   "outputs": [],
   "source": [
    "degree_1= {\"Prasanthi\":\"Degree\",\"Sri\":\"Btech\"}"
   ]
  },
  {
   "cell_type": "code",
   "execution_count": 72,
   "id": "120a74ea",
   "metadata": {},
   "outputs": [],
   "source": [
    "degree_2= {\"Sri\":\"Btech\",\"Prasanthi\":\"Degree\"}"
   ]
  },
  {
   "cell_type": "code",
   "execution_count": 73,
   "id": "f7dbf31b",
   "metadata": {},
   "outputs": [
    {
     "data": {
      "text/plain": [
       "True"
      ]
     },
     "execution_count": 73,
     "metadata": {},
     "output_type": "execute_result"
    }
   ],
   "source": [
    "degree_1==degree_2"
   ]
  },
  {
   "cell_type": "markdown",
   "id": "c3f9bf6e",
   "metadata": {},
   "source": [
    "### conversion of data type\n",
    "### Immplict type conversion is automatically handled by python at runtime.\n",
    "### Explicit type conversion will done by the programmer."
   ]
  },
  {
   "cell_type": "code",
   "execution_count": 74,
   "id": "5d042b45",
   "metadata": {},
   "outputs": [
    {
     "name": "stdout",
     "output_type": "stream",
     "text": [
      "type of a= <class 'int'> type of b= <class 'float'> type of c= <class 'float'>\n"
     ]
    }
   ],
   "source": [
    "# Implicit type converstion\n",
    "a=5\n",
    "b=6.5\n",
    "c=a+b\n",
    "print(\"type of a=\",type(a),\"type of b=\",type(b),\"type of c=\",type(c))"
   ]
  },
  {
   "cell_type": "code",
   "execution_count": 75,
   "id": "646ead99",
   "metadata": {},
   "outputs": [
    {
     "name": "stdout",
     "output_type": "stream",
     "text": [
      "<class 'int'>\n",
      "<class 'float'>\n"
     ]
    }
   ],
   "source": [
    "# Explict type conversion\n",
    "a=5\n",
    "print(type(a))\n",
    "a=float(a)\n",
    "print(type(a))"
   ]
  },
  {
   "cell_type": "code",
   "execution_count": 77,
   "id": "2116d094",
   "metadata": {},
   "outputs": [
    {
     "name": "stdout",
     "output_type": "stream",
     "text": [
      "15\n"
     ]
    }
   ],
   "source": [
    "a=5\n",
    "b=10\n",
    "b=int(b)\n",
    "print(a+b)"
   ]
  },
  {
   "cell_type": "code",
   "execution_count": null,
   "id": "437fb956",
   "metadata": {},
   "outputs": [],
   "source": []
  },
  {
   "cell_type": "code",
   "execution_count": null,
   "id": "3948fc29",
   "metadata": {},
   "outputs": [],
   "source": []
  }
 ],
 "metadata": {
  "kernelspec": {
   "display_name": "Python 3 (ipykernel)",
   "language": "python",
   "name": "python3"
  },
  "language_info": {
   "codemirror_mode": {
    "name": "ipython",
    "version": 3
   },
   "file_extension": ".py",
   "mimetype": "text/x-python",
   "name": "python",
   "nbconvert_exporter": "python",
   "pygments_lexer": "ipython3",
   "version": "3.10.6"
  }
 },
 "nbformat": 4,
 "nbformat_minor": 5
}
